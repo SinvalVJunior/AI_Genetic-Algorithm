{
 "cells": [
  {
   "cell_type": "code",
   "execution_count": 1,
   "metadata": {},
   "outputs": [],
   "source": [
    "from random import *\n",
    "import math\n",
    "import matplotlib.pyplot\n",
    "populacao = []\n",
    "TAM = 100\n",
    "i = 0\n",
    "num_geracoes = 500\n",
    "taxa_CrossOver = 100\n",
    "taxa_mutacao = 0.1\n",
    "maiores = []\n",
    "menores = []\n",
    "media_ger = []"
   ]
  },
  {
   "cell_type": "code",
   "execution_count": 2,
   "metadata": {},
   "outputs": [
    {
     "name": "stdout",
     "output_type": "stream",
     "text": [
      "[7.791251644540057, 9.33871924584423, 0] [5.876627644598424, 7.473604226334807, 0]\n",
      "....\n",
      "[8.018167594008407, 1.4352239698489655, 0]\n"
     ]
    }
   ],
   "source": [
    "#-----------Cria a populacao------------------\n",
    "while(i<TAM):\n",
    "    v = [uniform(0,10),uniform(0,10),0]\n",
    "    populacao = populacao + [v]\n",
    "    i = i+1\n",
    "\n",
    "print(populacao[0],populacao[1])\n",
    "print(\"....\")\n",
    "print(populacao[TAM-1])"
   ]
  },
  {
   "cell_type": "code",
   "execution_count": 3,
   "metadata": {},
   "outputs": [],
   "source": [
    "#----------------Funcoes para aptidao---------------\n",
    "def Alpine(x1,x2):\n",
    "        return (x1**(1/2)* math.sin(x1))*(x2**(1/2)* math.sin(x2))\n",
    "def funcaoObjetivo(populacao):\n",
    "        sum =0\n",
    "        for vetor in populacao :\n",
    "            vetor[2] = Alpine(vetor[0] , vetor[1]) + 7\n",
    "            sum += vetor[2]\n",
    "        return sum"
   ]
  },
  {
   "cell_type": "code",
   "execution_count": 4,
   "metadata": {},
   "outputs": [],
   "source": [
    "#--------------Funcoes para criar o grafico---------------------------\n",
    "def obterMaior(populacao):\n",
    "        maior = populacao[0]\n",
    "        for v in populacao:\n",
    "            if (v[2] > maior[2]):\n",
    "                maior = v\n",
    "        return maior\n",
    "def obterMenor(populacao):\n",
    "        menor = populacao[0]\n",
    "        for v in populacao:\n",
    "            if (v[2] < menor[2]):\n",
    "                menor = v\n",
    "        return menor\n"
   ]
  },
  {
   "cell_type": "code",
   "execution_count": 5,
   "metadata": {},
   "outputs": [],
   "source": [
    "#----------------Funcao para selecao---------------\n",
    "def encontrarPai(faixa,populacao):\n",
    "            Ai = 0\n",
    "            for v in populacao:\n",
    "                Ai += v[2]\n",
    "                if Ai >= faixa:\n",
    "                    return v\n"
   ]
  },
  {
   "cell_type": "code",
   "execution_count": 6,
   "metadata": {},
   "outputs": [],
   "source": [
    "#---------------Funcao de Cruzamento------------------------\n",
    "def encontrarFilho(pai1, pai2):\n",
    "            alpha = uniform(0, 1)\n",
    "            filho = [alpha * pai1[0] + (1 - alpha) * pai2[0], alpha * pai1[1] + (1 - alpha) * pai2[1],0]\n",
    "            return filho"
   ]
  },
  {
   "cell_type": "code",
   "execution_count": 7,
   "metadata": {},
   "outputs": [],
   "source": [
    "#-------------Funcao de mutacao-------------------------\n",
    "def mutar(filho):\n",
    "            libera = randint(0,100)\n",
    "            if(libera < taxa_mutacao):\n",
    "                mutacao = uniform(-1,1)\n",
    "                if(filho + mutacao >= 0):\n",
    "                    filho = filho+mutacao\n",
    "            return filho"
   ]
  },
  {
   "cell_type": "code",
   "execution_count": 8,
   "metadata": {},
   "outputs": [],
   "source": [
    "l = 0\n",
    "while l<= num_geracoes:\n",
    "    #--------------Descobre Aptidao---------------------\n",
    "    sum = funcaoObjetivo(populacao)\n",
    "     # ----------Estudo da geracao--------------------\n",
    "    maior = obterMaior(populacao)\n",
    "    menor = obterMenor(populacao)\n",
    "    media = sum/TAM\n",
    "    maiores.append(maior[2])\n",
    "    menores.append(menor[2])\n",
    "    media_ger.append(media)\n",
    "    for j in range(0,TAM-1):\n",
    "        #---------------------Selecionar------------------------\n",
    "        sum = funcaoObjetivo(populacao)\n",
    "        faixa = uniform(0,sum)\n",
    "        pai1 = encontrarPai(faixa,populacao)\n",
    "        faixa = uniform(0,sum)\n",
    "        pai2 = encontrarPai(faixa,populacao)\n",
    "        #----------------CrossOver-----------------------------\n",
    "        index1 = populacao.index(pai1)\n",
    "        index2 = populacao.index(pai2)\n",
    "        libera = randint(0,100)\n",
    "        if(libera<taxa_CrossOver):\n",
    "            filho1 = encontrarFilho(pai1,pai2)\n",
    "            filho2 = encontrarFilho(pai2,pai1)\n",
    "        else :\n",
    "            filho1 = pai1\n",
    "            filho2 = pai2\n",
    "\n",
    "        #------------Mutacao-------------------\n",
    "        filho1[0] = mutar(filho1[0])\n",
    "        filho1[1] = mutar(filho1[1])\n",
    "        filho2[0] = mutar(filho2[0])\n",
    "        filho2[1] = mutar(filho2[1])\n",
    "        #----------Substituicao---------------\n",
    "        populacao[index1] = filho1\n",
    "        populacao[index2] = filho2\n",
    "\n",
    "\n",
    "    l = l+1"
   ]
  },
  {
   "cell_type": "code",
   "execution_count": 9,
   "metadata": {},
   "outputs": [
    {
     "data": {
      "image/png": "[encoded data removed]",
      "text/plain": [
       "<Figure size 432x288 with 1 Axes>"
      ]
     },
     "metadata": {
      "needs_background": "light"
     },
     "output_type": "display_data"
    },
    {
     "name": "stdout",
     "output_type": "stream",
     "text": [
      "[4.827781607532642, 4.820458645492127, 11.764080683612562]\n"
     ]
    }
   ],
   "source": [
    "#-------------Criando o grafico-------------------------------\n",
    "geracoes =[]\n",
    "for v in range(0,num_geracoes+1):\n",
    "    geracoes = geracoes +[v]\n",
    "    \n",
    "matplotlib.pyplot.plot(geracoes,maiores)\n",
    "matplotlib.pyplot.plot(geracoes,menores)\n",
    "matplotlib.pyplot.plot(geracoes,media_ger)\n",
    "matplotlib.pyplot.show()\n",
    "print(maior)"
   ]
  },
  {
   "cell_type": "code",
   "execution_count": null,
   "metadata": {},
   "outputs": [],
   "source": []
  }
 ],
 "metadata": {
  "kernelspec": {
   "display_name": "Python 3",
   "language": "python",
   "name": "python3"
  },
  "language_info": {
   "codemirror_mode": {
    "name": "ipython",
    "version": 3
   },
   "file_extension": ".py",
   "mimetype": "text/x-python",
   "name": "python",
   "nbconvert_exporter": "python",
   "pygments_lexer": "ipython3",
   "version": "3.6.3"
  }
 },
 "nbformat": 4,
 "nbformat_minor": 4
}
